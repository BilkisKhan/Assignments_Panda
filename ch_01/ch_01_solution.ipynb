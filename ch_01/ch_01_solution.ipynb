{
 "cells": [
  {
   "cell_type": "code",
   "execution_count": 5,
   "id": "1d9e87cd",
   "metadata": {},
   "outputs": [],
   "source": [
    "from statistics import mean, stdev\n",
    "from statistics import stdev\n",
    "from statistics import variance\n",
    "from collections import Counter\n",
    "from statistics import mode\n",
    "from statistics import mean\n",
    "from statistics import median\n",
    "from statistics import mean, stdev\n",
    "import numpy as np\n",
    "import math\n",
    "import random\n",
    "\n",
    "random.seed(0)\n",
    "salaries = [round(random.random()*1000000, -3) for _ in range(100)]\n"
   ]
  },
  {
   "cell_type": "code",
   "execution_count": 6,
   "id": "c0be93d9",
   "metadata": {},
   "outputs": [
    {
     "data": {
      "text/plain": [
       "True"
      ]
     },
     "execution_count": 6,
     "metadata": {},
     "output_type": "execute_result"
    }
   ],
   "source": [
    "#####\n",
    "# 5(a) mean\n",
    "sum(salaries) / len(salaries) == mean(salaries)\n"
   ]
  },
  {
   "cell_type": "code",
   "execution_count": 7,
   "id": "a6b93916",
   "metadata": {},
   "outputs": [
    {
     "name": "stdout",
     "output_type": "stream",
     "text": [
      "True\n"
     ]
    }
   ],
   "source": [
    "# 5(b) Median \n",
    "\n",
    "\n",
    "def getmedian(val):\n",
    "    val.sort()\n",
    "    midnumber = (len(val) + 1) / 2 - 1\n",
    "    if len(val) % 2:\n",
    "        return x[int(midnumber)]\n",
    "    else:\n",
    "        return (val[math.floor(midnumber)] + val[math.ceil(midnumber)]) / 2\n",
    "\n",
    "\n",
    "print(getmedian(salaries) == median(salaries))"
   ]
  },
  {
   "cell_type": "code",
   "execution_count": 6,
   "id": "d8020108",
   "metadata": {},
   "outputs": [
    {
     "name": "stdout",
     "output_type": "stream",
     "text": [
      "477000.0\n",
      "True\n"
     ]
    }
   ],
   "source": [
    "# 5(c) Mode\n",
    "\n",
    "\n",
    "c = Counter(salaries)\n",
    "modeVal = c.most_common(1)[0][0]\n",
    "print(modeVal)\n",
    "print(modeVal == mode(salaries))"
   ]
  },
  {
   "cell_type": "code",
   "execution_count": 8,
   "id": "5fc194d2",
   "metadata": {},
   "outputs": [
    {
     "name": "stdout",
     "output_type": "stream",
     "text": [
      "70664054444.44444\n",
      "True\n"
     ]
    }
   ],
   "source": [
    "# 5(d) Varience\n",
    "print(variance(salaries))\n",
    "\n",
    "meanDat = sum(salaries) / len(salaries)\n",
    "var = sum(pow(x-meanDat, 2) for x in salaries)/(len(salaries) - 1)\n",
    "print(var == variance(salaries))"
   ]
  },
  {
   "cell_type": "code",
   "execution_count": 12,
   "id": "50ebf850",
   "metadata": {},
   "outputs": [
    {
     "name": "stdout",
     "output_type": "stream",
     "text": [
      "265827.11382484\n"
     ]
    },
    {
     "data": {
      "text/plain": [
       "True"
      ]
     },
     "execution_count": 12,
     "metadata": {},
     "output_type": "execute_result"
    }
   ],
   "source": [
    "# 5(e) Standard deviation\n",
    "meanVal = sum(salaries) / len(salaries)\n",
    "var = sum(pow(x-meanVal, 2) for x in salaries)/(len(salaries) - 1)\n",
    "std = math.sqrt(var)\n",
    "print(std)\n",
    "(std == stdev(salaries))"
   ]
  },
  {
   "cell_type": "code",
   "execution_count": 98,
   "id": "791d8c26",
   "metadata": {},
   "outputs": [
    {
     "name": "stdout",
     "output_type": "stream",
     "text": [
      "995000.0\n"
     ]
    }
   ],
   "source": [
    "# 6(a) Range\n",
    "salrange = max(salaries) - min(salaries)\n",
    "print(salrange)"
   ]
  },
  {
   "cell_type": "code",
   "execution_count": 38,
   "id": "ee751a23",
   "metadata": {},
   "outputs": [
    {
     "name": "stdout",
     "output_type": "stream",
     "text": [
      "0.45386998894439035\n"
     ]
    }
   ],
   "source": [
    "# 6(b) coefficient of variation\n",
    "\n",
    "print(stdev(salaries) / mean(salaries))"
   ]
  },
  {
   "cell_type": "code",
   "execution_count": null,
   "id": "d288d500",
   "metadata": {},
   "outputs": [],
   "source": []
  },
  {
   "cell_type": "code",
   "execution_count": 94,
   "id": "00ee66dd",
   "metadata": {},
   "outputs": [
    {
     "data": {
      "text/plain": [
       "417500.0"
      ]
     },
     "execution_count": 94,
     "metadata": {},
     "output_type": "execute_result"
    }
   ],
   "source": [
    "\n",
    "# 6(c) interquartile\n",
    "\n",
    "def percentile(val, percentage):\n",
    "    val.sort()\n",
    "    length = len(val) \n",
    "    index_number = (length + 1) * percentage\n",
    "    index_number= index_number- 1\n",
    "    \n",
    "    if len(val) % 2:\n",
    "        return val[int(index_number)]\n",
    "    else:\n",
    "        return (val[math.floor(index_number)] + val[math.ceil(index_number)]) / 2\n",
    "    \n",
    "Q3 = percentile(salaries, 0.75)\n",
    "Q1 = percentile(salaries, 0.25) \n",
    "\n",
    "IQR = Q3 - Q1\n",
    "IQR\n"
   ]
  },
  {
   "cell_type": "code",
   "execution_count": 95,
   "id": "27b74d61",
   "metadata": {},
   "outputs": [
    {
     "data": {
      "text/plain": [
       "0.3417928776094965"
      ]
     },
     "execution_count": 95,
     "metadata": {},
     "output_type": "execute_result"
    }
   ],
   "source": [
    "# 6(d) quartile coefficent of dispersion\n",
    "\n",
    "IQR / (Q1 + Q3)"
   ]
  },
  {
   "cell_type": "code",
   "execution_count": 145,
   "id": "1b583410",
   "metadata": {},
   "outputs": [
    {
     "data": {
      "text/plain": [
       "[0.0,\n",
       " 0.01306532663316583,\n",
       " 0.07939698492462312,\n",
       " 0.0814070351758794,\n",
       " 0.08944723618090453]"
      ]
     },
     "execution_count": 145,
     "metadata": {},
     "output_type": "execute_result"
    }
   ],
   "source": [
    "\n",
    "# 7(a) scale the data \n",
    "#𝑧𝑖=𝑥𝑖−min(𝑥)/max(𝑥)−min(𝑥)\n",
    "\n",
    "minSal = min(salaries)\n",
    "maxSal = max(salaries)\n",
    "salRange =  maxSal - minSal\n",
    "scaled = [(v - minSal) / salRange for v in salaries]\n"
   ]
  },
  {
   "cell_type": "code",
   "execution_count": 149,
   "id": "5330af6f",
   "metadata": {},
   "outputs": [
    {
     "data": {
      "text/plain": [
       "[-2.199512275430514,\n",
       " -2.150608309943509,\n",
       " -1.9023266390094862,\n",
       " -1.8948029520114855,\n",
       " -1.8647082040194827]"
      ]
     },
     "execution_count": 149,
     "metadata": {},
     "output_type": "execute_result"
    }
   ],
   "source": [
    "# 7(b) standardizing\n",
    "\n",
    "meanVal\n",
    "stdDv = stdev(salaries)\n",
    "stnd = [(v - meanVal) / stdDv for v in salaries]"
   ]
  },
  {
   "cell_type": "code",
   "execution_count": 165,
   "id": "93df60af",
   "metadata": {},
   "outputs": [
    {
     "data": {
      "text/plain": [
       "array([[0.07137603, 0.26716293],\n",
       "       [0.26716293, 1.        ]])"
      ]
     },
     "execution_count": 165,
     "metadata": {},
     "output_type": "execute_result"
    }
   ],
   "source": [
    "# 8(a) covariance between standardized and normalized \n",
    "import numpy as np\n",
    "np.cov(scaled, stnd)"
   ]
  },
  {
   "cell_type": "code",
   "execution_count": 163,
   "id": "af7183b0",
   "metadata": {},
   "outputs": [
    {
     "data": {
      "text/plain": [
       "array([[1., 1.],\n",
       "       [1., 1.]])"
      ]
     },
     "execution_count": 163,
     "metadata": {},
     "output_type": "execute_result"
    }
   ],
   "source": [
    "# 8(b) Pearson correlation coefficient\n",
    "np.corrcoef(np.cov(scaled, stnd))"
   ]
  }
 ],
 "metadata": {
  "kernelspec": {
   "display_name": "Python 3",
   "language": "python",
   "name": "python3"
  },
  "language_info": {
   "codemirror_mode": {
    "name": "ipython",
    "version": 3
   },
   "file_extension": ".py",
   "mimetype": "text/x-python",
   "name": "python",
   "nbconvert_exporter": "python",
   "pygments_lexer": "ipython3",
   "version": "3.8.8"
  }
 },
 "nbformat": 4,
 "nbformat_minor": 5
}
